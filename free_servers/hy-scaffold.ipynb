{
 "cells": [
  {
   "cell_type": "code",
   "execution_count": null,
   "id": "4c4d04db-6fe0-4511-abb3-c746ba869863",
   "metadata": {},
   "outputs": [],
   "source": [
    "!apt-get update\n",
    "!apt-get install p7zip-full -y"
   ]
  },
  {
   "cell_type": "code",
   "execution_count": null,
   "id": "7c027a62-8116-4c55-9a90-95c4d90dd087",
   "metadata": {},
   "outputs": [],
   "source": [
    "!7z x dataset.zip -o/hy-tmp\n",
    "!7z x machineLearningScaffold.zip -o/hy-tmp\n",
    "!7z x vit_pre-train_checkpoint.zip -o/hy-tmp\n",
    "!mv -f /hy-tmp/pre-train_checkpoint/vit_checkpoint/imagenet21k/R50+ViT-B_16.npz /hy-tmp/pre-train_checkpoint"
   ]
  },
  {
   "cell_type": "code",
   "execution_count": 8,
   "id": "4c6dc6a1-0208-4efb-beaf-b1264a94ba71",
   "metadata": {},
   "outputs": [
    {
     "name": "stdout",
     "output_type": "stream",
     "text": [
      "\u001b[33mWARNING: You are using pip version 21.0.1; however, version 21.2.4 is available.\n",
      "You should consider upgrading via the '/usr/bin/python3.8 -m pip install --upgrade pip' command.\u001b[0m\n"
     ]
    }
   ],
   "source": [
    "!pip install -r /hy-tmp/requirements.txt > /dev/null"
   ]
  },
  {
   "cell_type": "code",
   "execution_count": null,
   "id": "2c074f52-d27e-4605-8b4f-45b11a2f1eb1",
   "metadata": {},
   "outputs": [],
   "source": [
    "import main\n",
    "%load_ext tensorboard"
   ]
  },
  {
   "cell_type": "code",
   "execution_count": null,
   "id": "a5a8d64e-d90e-467f-a3b4-db8b31874044",
   "metadata": {},
   "outputs": [],
   "source": [
    "main.main('fit', gpus=1, dataset_path='./dataset/MFNet(RGB-T)', num_workers=2, max_epochs=60, batch_size=16, precision=16, seed=1234, # tpu_cores=8,\n",
    "     checkpoint_every_n_val=1, save_name='version_0', #checkpoint_path='/version_15/checkpoints/epoch=59-step=4739.ckpt',\n",
    "     path_final_save='./drive/MyDrive', save_top_k=1\n",
    "     )"
   ]
  }
 ],
 "metadata": {
  "kernelspec": {
   "display_name": "Python 3",
   "language": "python",
   "name": "python3"
  },
  "language_info": {
   "codemirror_mode": {
    "name": "ipython",
    "version": 3
   },
   "file_extension": ".py",
   "mimetype": "text/x-python",
   "name": "python",
   "nbconvert_exporter": "python",
   "pygments_lexer": "ipython3",
   "version": "3.8.10"
  }
 },
 "nbformat": 4,
 "nbformat_minor": 5
}
